{
 "cells": [
  {
   "cell_type": "markdown",
   "metadata": {},
   "source": [
    "First one! yay!!!!!"
   ]
  },
  {
   "cell_type": "code",
   "execution_count": 4,
   "metadata": {},
   "outputs": [
    {
     "name": "stdout",
     "output_type": "stream",
     "text": [
      "599\n"
     ]
    }
   ],
   "source": [
    "f = open('inputs/01_input.txt', 'r')\n",
    "sum = 0\n",
    "for line in f:\n",
    "    sum += int(line)\n",
    "print(sum)\n",
    "f.close()"
   ]
  },
  {
   "cell_type": "code",
   "execution_count": 5,
   "metadata": {},
   "outputs": [
    {
     "name": "stdout",
     "output_type": "stream",
     "text": [
      "81204\n"
     ]
    }
   ],
   "source": [
    "f = open('inputs/01_input.txt', 'r')\n",
    "# f = open('01_testinput.txt', 'r')\n",
    "\n",
    "sums = set()\n",
    "\n",
    "s = 0\n",
    "sums.add(s)\n",
    "running = True\n",
    "\n",
    "while running:\n",
    "    for line in f:\n",
    "        s += int(line)\n",
    "        if s in sums:\n",
    "            running = False\n",
    "            break\n",
    "        else:\n",
    "            sums.add(s)\n",
    "    f.seek(0)\n",
    "f.close()\n",
    "\n",
    "print(s)"
   ]
  },
  {
   "cell_type": "code",
   "execution_count": null,
   "metadata": {},
   "outputs": [],
   "source": []
  },
  {
   "cell_type": "code",
   "execution_count": null,
   "metadata": {},
   "outputs": [],
   "source": []
  }
 ],
 "metadata": {
  "kernelspec": {
   "display_name": "Python 3",
   "language": "python",
   "name": "python3"
  },
  "language_info": {
   "codemirror_mode": {
    "name": "ipython",
    "version": 3
   },
   "file_extension": ".py",
   "mimetype": "text/x-python",
   "name": "python",
   "nbconvert_exporter": "python",
   "pygments_lexer": "ipython3",
   "version": "3.7.0"
  }
 },
 "nbformat": 4,
 "nbformat_minor": 2
}
