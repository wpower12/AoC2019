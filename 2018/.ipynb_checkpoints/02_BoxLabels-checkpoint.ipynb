{
 "cells": [
  {
   "cell_type": "markdown",
   "metadata": {},
   "source": []
  },
  {
   "cell_type": "code",
   "execution_count": 1,
   "metadata": {},
   "outputs": [
    {
     "name": "stdout",
     "output_type": "stream",
     "text": [
      "6200\n"
     ]
    }
   ],
   "source": [
    "input_fn = \"inputs/02_input.txt\"\n",
    "\n",
    "f = open(input_fn, 'r')\n",
    "\n",
    "def process_line(line):\n",
    "    # returns d2, d3 - each is 1 if there are exactly 2 of a letter or 3 of a letter\n",
    "    r2, r3 = 0, 0\n",
    "    counts = dict()\n",
    "    for c in line:\n",
    "        if c in counts:\n",
    "            counts[c] += 1\n",
    "        else:\n",
    "            counts[c] = 1\n",
    "    \n",
    "    for c in counts:\n",
    "        if counts[c] == 2:\n",
    "            r2 = 1\n",
    "        if counts[c] == 3:\n",
    "            r3 = 1\n",
    "    \n",
    "    return r2, r3\n",
    "\n",
    "count2, count3 = 0, 0\n",
    "\n",
    "for line in f:\n",
    "    d2, d3 = process_line(line)\n",
    "    count2 = count2 + d2\n",
    "    count3 = count3 + d3\n",
    "\n",
    "print(count2*count3)\n",
    "f.close()"
   ]
  },
  {
   "cell_type": "code",
   "execution_count": 18,
   "metadata": {},
   "outputs": [
    {
     "name": "stdout",
     "output_type": "stream",
     "text": [
      "xpysnnkqrbuhefmcajodplyzw\n",
      "\n",
      "xpysnnkqrbuhefmcajodplyzw\n",
      "\n"
     ]
    }
   ],
   "source": [
    "f = open(input_fn, 'r')\n",
    "\n",
    "words = []\n",
    "\n",
    "def distance(w1, w2):\n",
    "    count = 0\n",
    "    for i in range(len(w1)):\n",
    "        if w1[i] != w2[i]:\n",
    "            count += 1\n",
    "    return count\n",
    "\n",
    "def common(w1, w2):\n",
    "    res = \"\"\n",
    "    for i in range(len(w1)):\n",
    "        if w1[i] == w2[i]:\n",
    "            res += w1[i]    \n",
    "    return res\n",
    "\n",
    "for line in f:\n",
    "    words.append(line)\n",
    "    \n",
    "for w in range(len(words)):\n",
    "    for other in range(len(words)):\n",
    "        if distance(words[w], words[other]) == 1:\n",
    "            print(common(words[w], words[other]))\n",
    "            break\n",
    "        "
   ]
  },
  {
   "cell_type": "code",
   "execution_count": null,
   "metadata": {},
   "outputs": [],
   "source": []
  }
 ],
 "metadata": {
  "kernelspec": {
   "display_name": "Python 3",
   "language": "python",
   "name": "python3"
  },
  "language_info": {
   "codemirror_mode": {
    "name": "ipython",
    "version": 3
   },
   "file_extension": ".py",
   "mimetype": "text/x-python",
   "name": "python",
   "nbconvert_exporter": "python",
   "pygments_lexer": "ipython3",
   "version": "3.7.0"
  }
 },
 "nbformat": 4,
 "nbformat_minor": 2
}
