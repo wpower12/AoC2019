{
 "cells": [
  {
   "cell_type": "code",
   "execution_count": 39,
   "metadata": {},
   "outputs": [],
   "source": [
    "def get_100s(num):\n",
    "    ret = int(num / 10)\n",
    "    ret = int(ret / 10)\n",
    "    ret = ret % 10\n",
    "#     if num < 100:\n",
    "#         print(num)\n",
    "    return int(ret)"
   ]
  },
  {
   "cell_type": "code",
   "execution_count": 42,
   "metadata": {},
   "outputs": [
    {
     "name": "stdout",
     "output_type": "stream",
     "text": [
      "0\n"
     ]
    }
   ],
   "source": [
    "X_MAX = 300\n",
    "Y_MAX = 300\n",
    "\n",
    "# serial_num = 5468\n",
    "\n",
    "# Fuel cell at 3,5, grid serial number 8: power level  4.\n",
    "# test_x = 3-1\n",
    "# test_y = 5-1\n",
    "# serial_num = 8\n",
    "\n",
    "# Fuel cell at  122,79, grid serial number 57: power level -5.\n",
    "# test_x = 122-1\n",
    "# test_y = 79-1\n",
    "# serial_num = 57\n",
    "\n",
    "# Fuel cell at 217,196, grid serial number 39: power level  0.\n",
    "# test_x = 217-1\n",
    "# test_y = 196-1\n",
    "# serial_num = 39\n",
    "\n",
    "# Fuel cell at 101,153, grid serial number 71: power level  4.\n",
    "# test_x = 101-1\n",
    "# test_y = 153-1\n",
    "# serial_num = 71\n",
    "\n",
    "power_levels = []\n",
    "\n",
    "for j in range(Y_MAX):\n",
    "    power_levels.append([])\n",
    "    for i in range(X_MAX):\n",
    "        \n",
    "        x = i + 1\n",
    "        y = j + 1    \n",
    "        \n",
    "        rack_id = x + 10       \n",
    "        power_lvl = rack_id*y + serial_num\n",
    "        power_lvl = power_lvl*rack_id\n",
    "        power_lvl_100s = get_100s(power_lvl)  \n",
    "        power_levels[j].append(power_lvl_100s-5)\n",
    "        \n",
    "# print(power_levels[test_y][test_x])"
   ]
  },
  {
   "cell_type": "code",
   "execution_count": null,
   "metadata": {},
   "outputs": [],
   "source": []
  },
  {
   "cell_type": "code",
   "execution_count": null,
   "metadata": {},
   "outputs": [],
   "source": []
  }
 ],
 "metadata": {
  "kernelspec": {
   "display_name": "Python 3",
   "language": "python",
   "name": "python3"
  },
  "language_info": {
   "codemirror_mode": {
    "name": "ipython",
    "version": 3
   },
   "file_extension": ".py",
   "mimetype": "text/x-python",
   "name": "python",
   "nbconvert_exporter": "python",
   "pygments_lexer": "ipython3",
   "version": "3.7.0"
  }
 },
 "nbformat": 4,
 "nbformat_minor": 2
}
