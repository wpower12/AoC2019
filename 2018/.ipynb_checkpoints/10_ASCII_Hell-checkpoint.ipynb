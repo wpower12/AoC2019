{
 "cells": [
  {
   "cell_type": "code",
   "execution_count": 14,
   "metadata": {},
   "outputs": [
    {
     "name": "stdout",
     "output_type": "stream",
     "text": [
      "15 11\n"
     ]
    }
   ],
   "source": [
    "import re\n",
    "\n",
    "fn = \"inputs/10_test_input.txt\"\n",
    "# fn = \"inputs/10_input.txt\"\n",
    "f  = open(fn, 'r')\n",
    "\n",
    "def parse_line(l):\n",
    "    rs = re.split('; |<|, |>', line)\n",
    "    #        0        1     2        3          4     5     6\n",
    "    # ['position=', ' 9', ' 1', ' velocity=', ' 0', ' 2', '\\n']\n",
    "    vs = [int(rs[i]) for i in [1,2,4,5]]\n",
    "    return vs[0:2], vs[2:4]\n",
    "\n",
    "pos = []\n",
    "vel = []\n",
    "max_x = 0\n",
    "max_y = 0\n",
    "for line in f:\n",
    "    p, v = parse_line(line)\n",
    "    pos.append(p)\n",
    "    vel.append(v)\n",
    "    if p[0] > max_x: max_x = p[0]\n",
    "    if p[1] > max_y: max_y = p[1]\n",
    "f.close()\n",
    "print(max_x, max_y)\n",
    "\n",
    "def aligned_ness(pos):\n",
    "    # number of columns with 5+ vertically adjacent cells\n",
    "    score = 0\n",
    "    sorted_pos = sorted(pos, key=lambda p: p[1])\n",
    "    \n",
    "    cur_col = sorted_pos[0][1]\n",
    "    cur_streak = 0\n",
    "    seen_last = -10\n",
    "    for p in sorted_pos:\n",
    "        if p[1] == cur_col:\n",
    "            if p[0] == seen_last+1:\n",
    "                cur_streak += 1\n",
    "                seen_last = p[0]\n",
    "                if cur_streak == 5:\n",
    "                    score += 1\n",
    "            else:\n",
    "                cur_streak = 0\n",
    "        else:\n",
    "            cur_col = p[1]\n",
    "            cur_streak = 0\n",
    "            seen_last = -10\n",
    "        \n",
    "        \n",
    "    \n",
    "        \n",
    "\n",
    "# t = 0\n",
    "# running = True\n",
    "# while running:\n",
    "#     score = aligned_ness(pos)\n",
    "    \n",
    "    "
   ]
  },
  {
   "cell_type": "code",
   "execution_count": null,
   "metadata": {},
   "outputs": [],
   "source": []
  }
 ],
 "metadata": {
  "kernelspec": {
   "display_name": "Python 3",
   "language": "python",
   "name": "python3"
  },
  "language_info": {
   "codemirror_mode": {
    "name": "ipython",
    "version": 3
   },
   "file_extension": ".py",
   "mimetype": "text/x-python",
   "name": "python",
   "nbconvert_exporter": "python",
   "pygments_lexer": "ipython3",
   "version": "3.7.0"
  }
 },
 "nbformat": 4,
 "nbformat_minor": 2
}
