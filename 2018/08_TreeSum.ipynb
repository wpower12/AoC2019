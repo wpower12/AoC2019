{
 "cells": [
  {
   "cell_type": "code",
   "execution_count": 4,
   "metadata": {},
   "outputs": [
    {
     "name": "stdout",
     "output_type": "stream",
     "text": [
      "41849\n"
     ]
    }
   ],
   "source": [
    "fn = \"inputs/08_input.txt\"\n",
    "f  = open(fn, 'r')\n",
    "line = f.readline()\n",
    "# line = \"2 3 0 3 10 11 12 1 1 0 1 99 2 1 1 2\"\n",
    "f.close()\n",
    "values = line.split(\" \")\n",
    "values.reverse()\n",
    "values = [int(x) for x in values]\n",
    "\n",
    "result = 0\n",
    "\n",
    "stack = []\n",
    "\n",
    "while len(values) != 0:\n",
    "    # Nothing on stack, next item is the 'root' of a tree\n",
    "    n_children = values.pop()\n",
    "    n_meta     = values.pop()\n",
    "    stack.append([n_children, n_meta])\n",
    "    while len(stack) != 0:\n",
    "        c, m = stack.pop()\n",
    "        if c == 0:\n",
    "            for i in range(m):\n",
    "                result += values.pop()\n",
    "        else:\n",
    "            new_n_children = values.pop()\n",
    "            new_n_meta     = values.pop()\n",
    "            stack.append([c-1, m])\n",
    "            stack.append([new_n_children, new_n_meta]) \n",
    "\n",
    "print(result)\n",
    "            "
   ]
  },
  {
   "cell_type": "code",
   "execution_count": null,
   "metadata": {},
   "outputs": [],
   "source": [
    "fn = \"inputs/08_input.txt\"\n",
    "f  = open(fn, 'r')\n",
    "line = f.readline()\n",
    "# line = \"2 3 0 3 10 11 12 1 1 0 1 99 2 1 1 2\"\n",
    "f.close()\n",
    "values = line.split(\" \")\n",
    "values.reverse()\n",
    "values = [int(x) for x in values]\n",
    "\n",
    "\n",
    "# Build actual tree\n",
    "while len(values) != 0:\n",
    "    # Nothing on stack, next item is the 'root' of a tree\n",
    "    n_children = values.pop()\n",
    "    n_meta     = values.pop()\n",
    "    child_values = [-1 for x in range(n_meta)]\n",
    "    stack.append([n_children, n_meta, [], child_values])\n",
    "    while len(stack) != 0:\n",
    "        c, m = stack.pop()\n",
    "        if c == 0:\n",
    "            for i in range(m):\n",
    "                result += values.pop()\n",
    "        else:\n",
    "            new_n_children = values.pop()\n",
    "            new_n_meta     = values.pop()\n",
    "            stack.append([c-1, m])\n",
    "            stack.append([new_n_children, new_n_meta]) \n",
    "\n"
   ]
  }
 ],
 "metadata": {
  "kernelspec": {
   "display_name": "Python 3",
   "language": "python",
   "name": "python3"
  }
 },
 "nbformat": 4,
 "nbformat_minor": 2
}
