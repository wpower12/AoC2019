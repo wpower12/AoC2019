{
 "cells": [
  {
   "cell_type": "code",
   "execution_count": 5,
   "metadata": {},
   "outputs": [
    {
     "name": "stdout",
     "output_type": "stream",
     "text": [
      "114946\n"
     ]
    }
   ],
   "source": [
    "input_fn = \"inputs/03_input.txt\"\n",
    "\n",
    "f = open(input_fn, 'r')\n",
    "\n",
    "def parse_line(line):\n",
    "    raw_split = line.split()\n",
    "    loc = raw_split[2].strip(\":\").split(',')\n",
    "    dim = raw_split[3].split('x')\n",
    "    return loc, dim\n",
    "\n",
    "counts = dict()\n",
    "\n",
    "for line in f:\n",
    "    loc, dim = parse_line(line)\n",
    "    \n",
    "    x = int(loc[0])\n",
    "    y = int(loc[1])\n",
    "    dx = int(dim[0])\n",
    "    dy = int(dim[1])\n",
    "    \n",
    "    for i in range(x, x+dx):\n",
    "        for j in range(y, y+dy):\n",
    "            count_key = \"{},{}\".format(i,j)        \n",
    "            if count_key in counts:\n",
    "                counts[count_key] += 1\n",
    "            else:\n",
    "                counts[count_key] = 1\n",
    "\n",
    "count = 0\n",
    "\n",
    "for c in counts:\n",
    "    if counts[c] >= 2:\n",
    "        count += 1\n",
    "\n",
    "print(count)\n",
    "f.close()\n",
    "    "
   ]
  },
  {
   "cell_type": "code",
   "execution_count": 21,
   "metadata": {},
   "outputs": [
    {
     "name": "stdout",
     "output_type": "stream",
     "text": [
      "877\n"
     ]
    }
   ],
   "source": [
    "def check_overlap(r1, r2):\n",
    "    # assume [x,y,dx,dy]\n",
    "    e1 = r1[0] < (r2[0]+r2[2])\n",
    "    e2 = r2[0] < (r1[0]+r1[2])\n",
    "    e3 = r1[1] < (r2[1]+r2[3])\n",
    "    e4 = r2[1] < (r1[1]+r1[3])\n",
    "    return (e1 and e2 and e3 and e4)\n",
    "\n",
    "lines = set()\n",
    "f = open(input_fn, 'r')\n",
    "\n",
    "for line in f:\n",
    "    lines.add(line)\n",
    "f.close()\n",
    "\n",
    "\n",
    "for line in lines:\n",
    "    collision_seen = False\n",
    "    sqr_id = line.split()[0].strip('#')\n",
    "    loc, dim = parse_line(line)\n",
    "    r1 = loc+dim\n",
    "    r1 = [int(i) for i in r1]\n",
    "    \n",
    "    for other in lines:\n",
    "        if(other != line):\n",
    "            loc, dim = parse_line(other)\n",
    "            r2 = loc+dim\n",
    "            r2 = [int(i) for i in r2]\n",
    "            if check_overlap(r1, r2):\n",
    "                collision_seen = True\n",
    "    \n",
    "    if collision_seen == False:\n",
    "        print(sqr_id)\n",
    "\n",
    "        \n",
    "        \n",
    "\n",
    "\n",
    "    \n",
    "    "
   ]
  },
  {
   "cell_type": "code",
   "execution_count": null,
   "metadata": {},
   "outputs": [],
   "source": []
  }
 ],
 "metadata": {
  "kernelspec": {
   "display_name": "Python 3",
   "language": "python",
   "name": "python3"
  },
  "language_info": {
   "codemirror_mode": {
    "name": "ipython",
    "version": 3
   },
   "file_extension": ".py",
   "mimetype": "text/x-python",
   "name": "python",
   "nbconvert_exporter": "python",
   "pygments_lexer": "ipython3",
   "version": "3.7.0"
  }
 },
 "nbformat": 4,
 "nbformat_minor": 2
}
