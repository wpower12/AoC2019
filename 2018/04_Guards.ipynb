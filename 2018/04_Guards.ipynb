{
 "cells": [
  {
   "cell_type": "code",
   "execution_count": 19,
   "metadata": {},
   "outputs": [
    {
     "name": "stdout",
     "output_type": "stream",
     "text": [
      "1901\n",
      "41\n",
      "77941\n"
     ]
    }
   ],
   "source": [
    "input_fn = \"inputs/04_input.txt\"\n",
    "f = open(input_fn, 'r')\n",
    "\n",
    "def parse_line(line):\n",
    "    raw_split = line.split(' ')\n",
    "    ts = raw_split[0].replace('-', '')+raw_split[1].replace(':', '')\n",
    "    ts = ts.strip(\"[]\")   \n",
    "    # Keeping this easily accesible for later\n",
    "    mins_after_mid = int(ts[10:12])\n",
    "    \n",
    "    if len(raw_split) == 4:\n",
    "        # Then theres only wake/sleep, no g_id\n",
    "        g_id = -1\n",
    "        sleeps = (raw_split[2] == \"falls\")\n",
    "    else:\n",
    "        g_id = int(raw_split[3].strip('#'))\n",
    "        sleeps = False\n",
    "    return [int(ts), mins_after_mid, g_id, sleeps]\n",
    "\n",
    "lines = []\n",
    "for line in f:\n",
    "    lines.append(parse_line(line))\n",
    "f.close()\n",
    "\n",
    "# This gets all the guard entries in order, by timestamp (0th element of a line)\n",
    "lines.sort(key=lambda t: t[0])    \n",
    "\n",
    "def process_minutes(guard_list, g_id, start, end):\n",
    "    # if they are not in the dict:\n",
    "        # create guard, initialize days list\n",
    "    # update total minute count\n",
    "    # increment guards minute counters\n",
    "    \n",
    "    if g_id not in guard_list:\n",
    "        new_day_list = [0 for i in range(0,61)]\n",
    "        guard_list[g_id] = new_day_list\n",
    "    \n",
    "    inc = end-start\n",
    "    guard_list[g_id][60] += inc\n",
    "    \n",
    "    for i in range(start, end):\n",
    "        guard_list[g_id][i] += 1\n",
    "    \n",
    "#     print(guard_list, g_id, start, end)\n",
    "    return 0\n",
    "\n",
    "guards = dict()\n",
    "current_guard, current_start, current_end = -1, -1, -1\n",
    "\n",
    "# The 'line' data structure: \n",
    "# [timestamp, mins_after_mid, g_id, sleeps]\n",
    "MINUTES_IDX  = 1\n",
    "GUARD_ID_IDX = 2\n",
    "SLEEPS_IDX   = 3\n",
    "\n",
    "for l in lines:\n",
    "    if l[GUARD_ID_IDX] != -1:\n",
    "        # We're in a 'new' guard entry\n",
    "        current_guard = l[GUARD_ID_IDX]\n",
    "    else:\n",
    "        # otherwise we're processing a guard\n",
    "        if l[SLEEPS_IDX]: # Guard just went to sleep\n",
    "            current_start = l[MINUTES_IDX]\n",
    "        else:  # Guard just woke up, process their minutes\n",
    "            current_end = l[MINUTES_IDX]\n",
    "            process_minutes(guards, \n",
    "                            current_guard, \n",
    "                            current_start, \n",
    "                            current_end)\n",
    "\n",
    "largest_total = 0\n",
    "largest_id = -1\n",
    "for g in guards:\n",
    "    if guards[g][-1] > largest_total:\n",
    "        largest_total = guards[g][-1]\n",
    "        largest_id = g\n",
    "        \n",
    "print(largest_id)\n",
    "\n",
    "largest_min = -1\n",
    "largest_total = 0\n",
    "for m in range(0,60):\n",
    "    if guards[largest_id][m] > largest_total:\n",
    "        largest_min = m\n",
    "        largest_total = guards[largest_id][m]\n",
    "        \n",
    "print(largest_min)\n",
    "\n",
    "\n",
    "print(largest_min*largest_id)"
   ]
  },
  {
   "cell_type": "code",
   "execution_count": 20,
   "metadata": {},
   "outputs": [
    {
     "name": "stdout",
     "output_type": "stream",
     "text": [
      "35289\n"
     ]
    }
   ],
   "source": [
    "# Just need the largest, single minute count across all guards\n",
    "largest_total = 0\n",
    "largest_gid = -1\n",
    "largest_min = -1\n",
    "for g in guards:\n",
    "    for m in range(0,60):\n",
    "        if guards[g][m] > largest_total:\n",
    "            largest_min = m\n",
    "            largest_gid = g\n",
    "            largest_total = guards[g][m]\n",
    "            \n",
    "print(largest_gid*largest_min)\n"
   ]
  },
  {
   "cell_type": "code",
   "execution_count": null,
   "metadata": {},
   "outputs": [],
   "source": []
  }
 ],
 "metadata": {
  "kernelspec": {
   "display_name": "Python 3",
   "language": "python",
   "name": "python3"
  },
  "language_info": {
   "codemirror_mode": {
    "name": "ipython",
    "version": 3
   },
   "file_extension": ".py",
   "mimetype": "text/x-python",
   "name": "python",
   "nbconvert_exporter": "python",
   "pygments_lexer": "ipython3",
   "version": "3.7.0"
  }
 },
 "nbformat": 4,
 "nbformat_minor": 2
}
