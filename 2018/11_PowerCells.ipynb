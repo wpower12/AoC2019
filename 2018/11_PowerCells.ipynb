{
 "cells": [
  {
   "cell_type": "code",
   "execution_count": 3,
   "metadata": {},
   "outputs": [],
   "source": [
    "def get_100s(num):\n",
    "    ret = int(num / 10)\n",
    "    ret = int(ret / 10)\n",
    "    ret = ret % 10\n",
    "#     if num < 100:\n",
    "#         print(num)\n",
    "    return int(ret)"
   ]
  },
  {
   "cell_type": "code",
   "execution_count": 25,
   "metadata": {},
   "outputs": [
    {
     "name": "stdout",
     "output_type": "stream",
     "text": [
      "[243, 64]\n"
     ]
    }
   ],
   "source": [
    "X_MAX = 300\n",
    "Y_MAX = 300\n",
    "\n",
    "serial_num = 5468\n",
    "\n",
    "# serial_num = 42\n",
    "\n",
    "# Fuel cell at 3,5, grid serial number 8: power level  4.\n",
    "# test_x = 3-1\n",
    "# test_y = 5-1\n",
    "# serial_num = 8\n",
    "\n",
    "# Fuel cell at  122,79, grid serial number 57: power level -5.\n",
    "# test_x = 122-1\n",
    "# test_y = 79-1\n",
    "# serial_num = 57\n",
    "\n",
    "# Fuel cell at 217,196, grid serial number 39: power level  0.\n",
    "# test_x = 217-1\n",
    "# test_y = 196-1\n",
    "# serial_num = 39\n",
    "\n",
    "# Fuel cell at 101,153, grid serial number 71: power level  4.\n",
    "# test_x = 101-1\n",
    "# test_y = 153-1\n",
    "# serial_num = 71\n",
    "\n",
    "power_levels = []\n",
    "\n",
    "for j in range(Y_MAX):\n",
    "    power_levels.append([])\n",
    "    for i in range(X_MAX):\n",
    "        \n",
    "        x = i + 1\n",
    "        y = j + 1    \n",
    "        \n",
    "        rack_id = x + 10       \n",
    "        power_lvl = rack_id*y + serial_num\n",
    "        power_lvl = power_lvl*rack_id\n",
    "        power_lvl_100s = get_100s(power_lvl)  \n",
    "        power_levels[j].append(power_lvl_100s-5)\n",
    "        \n",
    "# test\n",
    "# print(power_levels[test_y][test_x])\n",
    "\n",
    "largest_idx = [0,0] # staying at 0-indexed till the end.\n",
    "largest_value = 0\n",
    "\n",
    "def calc_value(pls, i, j):\n",
    "    ret = 0\n",
    "    for x in range(i, i+3):\n",
    "        for y in range(j, j+3):\n",
    "            ret += pls[y][x]           \n",
    "    return ret\n",
    "\n",
    "for j in range(Y_MAX-3):\n",
    "    for i in range(X_MAX-3):\n",
    "        value = calc_value(power_levels, i, j)\n",
    "        if value > largest_value:\n",
    "            largest_value = value\n",
    "            largest_idx = [i, j]\n",
    "\n",
    "largest_idx = [i + 1 for i in largest_idx]\n",
    "            \n",
    "print(largest_idx)\n",
    "        "
   ]
  },
  {
   "cell_type": "code",
   "execution_count": 26,
   "metadata": {},
   "outputs": [
    {
     "name": "stdout",
     "output_type": "stream",
     "text": [
      "2\n",
      "3\n"
     ]
    },
    {
     "ename": "IndexError",
     "evalue": "list index out of range",
     "output_type": "error",
     "traceback": [
      "\u001b[1;31m---------------------------------------------------------------------------\u001b[0m",
      "\u001b[1;31mIndexError\u001b[0m                                Traceback (most recent call last)",
      "\u001b[1;32m<ipython-input-26-b877e1619124>\u001b[0m in \u001b[0;36m<module>\u001b[1;34m()\u001b[0m\n\u001b[0;32m     27\u001b[0m         \u001b[0mmemoized_sqr_sizes\u001b[0m\u001b[1;33m[\u001b[0m\u001b[0msize\u001b[0m\u001b[1;33m-\u001b[0m\u001b[1;36m1\u001b[0m\u001b[1;33m]\u001b[0m\u001b[1;33m.\u001b[0m\u001b[0mappend\u001b[0m\u001b[1;33m(\u001b[0m\u001b[1;33m[\u001b[0m\u001b[1;33m]\u001b[0m\u001b[1;33m)\u001b[0m\u001b[1;33m\u001b[0m\u001b[0m\n\u001b[0;32m     28\u001b[0m         \u001b[1;32mfor\u001b[0m \u001b[0mi\u001b[0m \u001b[1;32min\u001b[0m \u001b[0mrange\u001b[0m\u001b[1;33m(\u001b[0m\u001b[0mX_MAX\u001b[0m\u001b[1;33m-\u001b[0m\u001b[0msize\u001b[0m\u001b[1;33m-\u001b[0m\u001b[1;36m1\u001b[0m\u001b[1;33m)\u001b[0m\u001b[1;33m:\u001b[0m\u001b[1;33m\u001b[0m\u001b[0m\n\u001b[1;32m---> 29\u001b[1;33m             \u001b[0mvalue\u001b[0m \u001b[1;33m=\u001b[0m \u001b[0mcalc_value_size\u001b[0m\u001b[1;33m(\u001b[0m\u001b[0mmemoized_sqr_sizes\u001b[0m\u001b[1;33m,\u001b[0m \u001b[0mi\u001b[0m\u001b[1;33m,\u001b[0m \u001b[0mj\u001b[0m\u001b[1;33m,\u001b[0m \u001b[0msize\u001b[0m\u001b[1;33m)\u001b[0m\u001b[1;33m\u001b[0m\u001b[0m\n\u001b[0m\u001b[0;32m     30\u001b[0m             \u001b[1;32mif\u001b[0m \u001b[0mvalue\u001b[0m \u001b[1;33m>\u001b[0m \u001b[0mlargest_value\u001b[0m\u001b[1;33m:\u001b[0m\u001b[1;33m\u001b[0m\u001b[0m\n\u001b[0;32m     31\u001b[0m                 \u001b[0mlargest_value\u001b[0m \u001b[1;33m=\u001b[0m \u001b[0mvalue\u001b[0m\u001b[1;33m\u001b[0m\u001b[0m\n",
      "\u001b[1;32m<ipython-input-26-b877e1619124>\u001b[0m in \u001b[0;36mcalc_value_size\u001b[1;34m(pls, x, y, size)\u001b[0m\n\u001b[0;32m      5\u001b[0m \u001b[1;33m\u001b[0m\u001b[0m\n\u001b[0;32m      6\u001b[0m \u001b[1;32mdef\u001b[0m \u001b[0mcalc_value_size\u001b[0m\u001b[1;33m(\u001b[0m\u001b[0mpls\u001b[0m\u001b[1;33m,\u001b[0m \u001b[0mx\u001b[0m\u001b[1;33m,\u001b[0m \u001b[0my\u001b[0m\u001b[1;33m,\u001b[0m \u001b[0msize\u001b[0m\u001b[1;33m)\u001b[0m\u001b[1;33m:\u001b[0m\u001b[1;33m\u001b[0m\u001b[0m\n\u001b[1;32m----> 7\u001b[1;33m     \u001b[0mret\u001b[0m \u001b[1;33m=\u001b[0m \u001b[0mpls\u001b[0m\u001b[1;33m[\u001b[0m\u001b[0msize\u001b[0m\u001b[1;33m-\u001b[0m\u001b[1;36m2\u001b[0m\u001b[1;33m]\u001b[0m\u001b[1;33m[\u001b[0m\u001b[0my\u001b[0m\u001b[1;33m]\u001b[0m\u001b[1;33m[\u001b[0m\u001b[0mx\u001b[0m\u001b[1;33m]\u001b[0m\u001b[1;33m\u001b[0m\u001b[0m\n\u001b[0m\u001b[0;32m      8\u001b[0m \u001b[1;33m\u001b[0m\u001b[0m\n\u001b[0;32m      9\u001b[0m     \u001b[1;31m# The size of the next one down, plus all its edges\u001b[0m\u001b[1;33m\u001b[0m\u001b[1;33m\u001b[0m\u001b[0m\n",
      "\u001b[1;31mIndexError\u001b[0m: list index out of range"
     ]
    }
   ],
   "source": [
    "\n",
    "largest_idx = [0,0] # staying at 0-indexed till the end.\n",
    "largest_value = 0\n",
    "largest_size  = 1\n",
    "\n",
    "def calc_value_size(pls, x, y, size):\n",
    "    ret = pls[size-2][y][x]\n",
    "    \n",
    "    # The size of the next one down, plus all its edges\n",
    "    for j in range(y, y+size-1):\n",
    "        ret += pls[0][j][x+size]\n",
    "        \n",
    "    for i in range(x, x+size-1):\n",
    "        ret += pls[0][y+size][i]\n",
    "    \n",
    "    ret += pls[0][y+size][x+size]\n",
    "    return ret\n",
    "\n",
    "memoized_sqr_sizes = []\n",
    "memoized_sqr_sizes.append(power_levels)\n",
    "\n",
    "for size in range(2, 300-1):\n",
    "    print(size)\n",
    "    memoized_sqr_sizes.append([])\n",
    "    for j in range(Y_MAX-size-1):\n",
    "        # size is 1, but location is 0 index, so we sub 1\n",
    "        memoized_sqr_sizes[size-1].append([])\n",
    "        for i in range(X_MAX-size-1):\n",
    "            value = calc_value_size(memoized_sqr_sizes, i, j, size)\n",
    "            if value > largest_value:\n",
    "                largest_value = value\n",
    "                largest_idx = [i, j]\n",
    "                largest_size = size\n",
    "                \n",
    "largest_idx = [i + 1 for i in largest_idx]\n",
    "            \n",
    "print(largest_idx, largest_size)\n"
   ]
  },
  {
   "cell_type": "code",
   "execution_count": null,
   "metadata": {
    "collapsed": true
   },
   "outputs": [],
   "source": []
  }
 ],
 "metadata": {
  "kernelspec": {
   "display_name": "Python 3",
   "language": "python",
   "name": "python3"
  },
  "language_info": {
   "codemirror_mode": {
    "name": "ipython",
    "version": 3
   },
   "file_extension": ".py",
   "mimetype": "text/x-python",
   "name": "python",
   "nbconvert_exporter": "python",
   "pygments_lexer": "ipython3",
   "version": "3.7.0"
  }
 },
 "nbformat": 4,
 "nbformat_minor": 2
}
