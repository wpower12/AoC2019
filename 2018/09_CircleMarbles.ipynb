{
 "cells": [
  {
   "cell_type": "code",
   "execution_count": 4,
   "metadata": {},
   "outputs": [],
   "source": [
    "class CLLNode:\n",
    "    cw_node = None\n",
    "    ccw_node = None\n",
    "    value = None\n",
    "    def __init__(self, v):\n",
    "        self.value = v\n",
    "\n",
    "def move_dir(node, n, d):\n",
    "    ret = node\n",
    "    if d == 1:\n",
    "        for i in range(n):\n",
    "            ret = ret.cw_node\n",
    "    else:\n",
    "        for i in range(n):\n",
    "            ret = ret.ccw_node\n",
    "    return ret\n",
    "\n",
    "def move_cw(node, n):\n",
    "    return move_dir(node, n, 1)\n",
    "\n",
    "def move_ccw(node, n):\n",
    "    return move_dir(node, n, -1)\n"
   ]
  },
  {
   "cell_type": "code",
   "execution_count": 12,
   "metadata": {},
   "outputs": [
    {
     "name": "stdout",
     "output_type": "stream",
     "text": [
      "3212830280\n"
     ]
    }
   ],
   "source": [
    "num_players = 462\n",
    "num_tokens  = 71938\n",
    "\n",
    "# Part 2\n",
    "# num_tokens  = 71938*100 \n",
    "\n",
    "scores = [0 for i in range(num_players)]\n",
    "\n",
    "cur_player_idx = 0\n",
    "\n",
    "current_marble = CLLNode(0)\n",
    "current_marble.cw_node = current_marble\n",
    "current_marble.ccw_node = current_marble\n",
    "\n",
    "for i in range(num_tokens):\n",
    "    if i % 23 == 0:\n",
    "        # do weird version\n",
    "        ccw_7 = move_ccw(current_marble, 7)\n",
    "        scores[cur_player_idx] += (i + ccw_7.value)\n",
    "        \n",
    "        # remove the ccw_7th \n",
    "        cw_r  = ccw_7.cw_node\n",
    "        ccw_r = ccw_7.ccw_node\n",
    "        \n",
    "        ccw_r.cw_node = cw_r\n",
    "        cw_r.ccw_node = ccw_r\n",
    "        \n",
    "        current_marble = cw_r\n",
    "    else:\n",
    "        # 'normal' move\n",
    "        cw_1 = current_marble.cw_node\n",
    "        cw_2 = cw_1.cw_node\n",
    "        new_marble = CLLNode(i)\n",
    "        \n",
    "        # Insert the new marble\n",
    "        cw_1.cw_node = new_marble\n",
    "        new_marble.ccw_node = cw_1  \n",
    "        new_marble.cw_node = cw_2\n",
    "        cw_2.ccw_node = new_marble\n",
    "        \n",
    "        current_marble = new_marble\n",
    "    \n",
    "    cur_player_idx = (cur_player_idx + 1) % num_players\n",
    "\n",
    "print(max(scores))"
   ]
  },
  {
   "cell_type": "code",
   "execution_count": null,
   "metadata": {},
   "outputs": [],
   "source": []
  }
 ],
 "metadata": {
  "kernelspec": {
   "display_name": "Python 3",
   "language": "python",
   "name": "python3"
  },
  "language_info": {
   "codemirror_mode": {
    "name": "ipython",
    "version": 3
   },
   "file_extension": ".py",
   "mimetype": "text/x-python",
   "name": "python",
   "nbconvert_exporter": "python",
   "pygments_lexer": "ipython3",
   "version": "3.7.0"
  }
 },
 "nbformat": 4,
 "nbformat_minor": 2
}
