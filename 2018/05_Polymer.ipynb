{
 "cells": [
  {
   "cell_type": "code",
   "execution_count": 12,
   "metadata": {},
   "outputs": [
    {
     "name": "stdout",
     "output_type": "stream",
     "text": [
      "50001\n",
      "10972\n"
     ]
    }
   ],
   "source": [
    "# Read each character in turn, eliminate and restart\n",
    "# if you can get all the way to the end, you're done.\n",
    "\n",
    "fn = \"inputs/05_input.txt\"\n",
    "f = open(fn, 'r')\n",
    "string_raw = f.readline()\n",
    "f.close()\n",
    "\n",
    "# string_raw = \"dabAcCaCBAcCcaDA\"\n",
    "\n",
    "string = bytearray(string_raw, 'UTF-8')\n",
    "\n",
    "# string = \"aabAAB\"\n",
    "# print(string)\n",
    "def reduceable(c1, c2):\n",
    "    if c1.upper() == c2.upper():\n",
    "        if c1 != c2:\n",
    "            return True\n",
    "        else:\n",
    "            return False\n",
    "    return False\n",
    "\n",
    "\n",
    "length = len(string)\n",
    "print(length)\n",
    "\n",
    "i = 0\n",
    "while i < length-1:\n",
    "    c1 = chr(string[i])\n",
    "    c2 = chr(string[i+1])\n",
    "    if reduceable(c1, c2):\n",
    "        for j in range(i+2, length):\n",
    "            string[j-2] = string[j]\n",
    "        i = i-1\n",
    "        length += -2\n",
    "    else:\n",
    "        i += 1\n",
    "\n",
    "print(length-1) # Theres a newline character. whoops."
   ]
  },
  {
   "cell_type": "code",
   "execution_count": 19,
   "metadata": {},
   "outputs": [
    {
     "name": "stdout",
     "output_type": "stream",
     "text": [
      "['t', 'K', 'G', 'x', 'M', 'r', 'z', 'R', 'q', 'n', 'D', 'u', 'p', 'v', 'A', 'T', 'a', 'h', 'Z', 'S', 'U', 'N', 'j', 'F', 'O', 'm', 'e', '\\n', 'C', 'L', 'B', 'l', 's', 'y', 'k', 'Q', 'I', 'f', 'b', 'c', 'g', 'E', 'J', 'Y', 'W', 'H', 'o', 'w', 'V', 'd', 'X', 'i', 'P']\n"
     ]
    }
   ],
   "source": [
    "fn = \"inputs/05_input.txt\"\n",
    "f = open(fn, 'r')\n",
    "string_raw = f.readline()\n",
    "f.close()\n",
    "\n",
    "chars = set()\n",
    "\n",
    "for c in string_raw:\n",
    "    chars.add(c)\n",
    "\n",
    "print(list(chars))"
   ]
  },
  {
   "cell_type": "code",
   "execution_count": null,
   "metadata": {},
   "outputs": [],
   "source": []
  }
 ],
 "metadata": {
  "kernelspec": {
   "display_name": "Python 3",
   "language": "python",
   "name": "python3"
  }
 },
 "nbformat": 4,
 "nbformat_minor": 2
}
